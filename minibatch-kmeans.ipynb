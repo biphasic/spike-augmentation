{
 "cells": [
  {
   "cell_type": "code",
   "execution_count": null,
   "metadata": {},
   "outputs": [],
   "source": [
    "%matplotlib widget\n",
    "import spike_data_augmentation as sda\n",
    "import numpy as np\n",
    "import sklearn as skl\n",
    "import ipdb\n",
    "import time\n",
    "from sklearn.cluster import MiniBatchKMeans\n",
    "from sklearn.linear_model import LogisticRegression\n",
    "from sklearn.naive_bayes import GaussianNB\n",
    "from sklearn.neighbors import KNeighborsClassifier\n",
    "from utils import plot_centers, create_histograms\n",
    "from tqdm.auto import tqdm\n",
    "print(time.strftime(\"Started on %a, %d %b %Y %H:%M:%S\", time.gmtime()))"
   ]
  },
  {
   "cell_type": "markdown",
   "metadata": {},
   "source": [
    "### Parametrise notebook using papermill"
   ]
  },
  {
   "cell_type": "code",
   "execution_count": null,
   "metadata": {
    "tags": [
     "parameters"
    ]
   },
   "outputs": [],
   "source": [
    "surface_dimensions = [11,11]\n",
    "dropout_probability = 0\n",
    "refractory_period = 0\n",
    "time_constant = 20e3\n",
    "n_of_centers = 500\n",
    "dataset = 'NCARS'\n",
    "first_saccade_only = False\n",
    "file_name = 'placeholder'"
   ]
  },
  {
   "cell_type": "markdown",
   "metadata": {},
   "source": [
    "### Choose training dataset and transforms"
   ]
  },
  {
   "cell_type": "code",
   "execution_count": null,
   "metadata": {},
   "outputs": [],
   "source": [
    "transform = sda.transforms.Compose([sda.transforms.RefractoryPeriod(refractory_period=refractory_period), \n",
    "                                sda.transforms.DropEvents(drop_probability=dropout_probability)])\n",
    "\n",
    "surface_transform = sda.transforms.Compose([sda.transforms.ToTimesurface(surface_dimensions=surface_dimensions, tau=time_constant, merge_polarities=True)])\n",
    "transform.transforms += surface_transform.transforms\n",
    "\n",
    "args = dict(save_to='./data', train=True, transform=surface_transform, download=False)\n",
    "if dataset == 'IBMGesture':\n",
    "    trainset = sda.datasets.IBMGesture(**args)\n",
    "elif dataset == 'NCARS':\n",
    "    trainset = sda.datasets.NCARS(**args)\n",
    "elif dataset == 'NMNIST':\n",
    "    trainset = sda.datasets.NMNIST(**args, first_saccade_only=first_saccade_only)\n",
    "trainloader = sda.datasets.dataloader.Dataloader(trainset, shuffle=True)\n",
    "\n",
    "augmentation = False if dropout_probability == 0 and refractory_period == 0 else True\n",
    "if augmentation:\n",
    "    args_augmented = dict(save_to='./data', train=True, transform=transform, download=False)\n",
    "    if dataset == 'IBMGesture':\n",
    "        trainset_augmented = sda.datasets.IBMGesture(**args_augmented)\n",
    "    elif dataset == 'NCARS':\n",
    "        trainset_augmented = sda.datasets.NCARS(**args_augmented)\n",
    "    elif dataset == 'NMNIST':\n",
    "        trainset_augmented = sda.datasets.NMNIST(**args_augmented, first_saccade_only=first_saccade_only)\n",
    "    trainloader_augmented = sda.datasets.dataloader.Dataloader(trainset_augmented, shuffle=True)"
   ]
  },
  {
   "cell_type": "markdown",
   "metadata": {},
   "source": [
    "### Read timesurfaces and use minibatch clustering"
   ]
  },
  {
   "cell_type": "code",
   "execution_count": null,
   "metadata": {},
   "outputs": [],
   "source": [
    "kmeans = MiniBatchKMeans(n_clusters=n_of_centers, verbose=True, reassignment_ratio=0.001)\n",
    "dims_prod = np.prod(surface_dimensions)\n",
    "\n",
    "if augmentation:  # mix normal and augmented training sets\n",
    "    mixed_loaders = zip(trainloader, trainloader_augmented)\n",
    "    for rec, rec_aug in tqdm(mixed_loaders):\n",
    "    #for rec, rec_aug in mixed_loaders:\n",
    "        surf, label = rec\n",
    "        kmeans.partial_fit(surf.reshape(-1, dims_prod))\n",
    "        surf_aug, label = rec_aug\n",
    "        kmeans.partial_fit(surf_aug.reshape(-1, dims_prod))\n",
    "else:  # only take training set without transforms\n",
    "    trainiterator = iter(trainloader)\n",
    "    result = [kmeans.partial_fit(surfaces.reshape(-1, dims_prod)) for surfaces, label in tqdm(trainiterator)]\n",
    "    #result = [kmeans.partial_fit(surfaces.reshape(-1, dims_prod)) for surfaces, label in trainiterator]"
   ]
  },
  {
   "cell_type": "code",
   "execution_count": null,
   "metadata": {},
   "outputs": [],
   "source": [
    "centers = kmeans.cluster_centers_.reshape([-1,] + surface_dimensions)\n",
    "activations = kmeans.counts_"
   ]
  },
  {
   "cell_type": "markdown",
   "metadata": {},
   "source": [
    "### model persistence"
   ]
  },
  {
   "cell_type": "code",
   "execution_count": null,
   "metadata": {},
   "outputs": [],
   "source": [
    "import pickle\n",
    "if True:\n",
    "    with open('saved_models/mb-kmeans{0}.pkl'.format(file_name), 'wb') as f:\n",
    "        pickle.dump(kmeans, f)\n",
    "else:\n",
    "    with open('saved_models/mb-kmeans{0}.pkl'.format(file_name), 'rb') as f:\n",
    "        kmeans = pickle.load(f)"
   ]
  },
  {
   "cell_type": "markdown",
   "metadata": {},
   "source": [
    "### Train classifiers"
   ]
  },
  {
   "cell_type": "code",
   "execution_count": null,
   "metadata": {},
   "outputs": [],
   "source": [
    "trainloader = sda.datasets.dataloader.Dataloader(trainset, shuffle=True)\n",
    "trainiterator = iter(trainloader)\n",
    "\n",
    "training_cluster_assignments = []\n",
    "Y_train = []\n",
    "for surfaces, label in tqdm(trainiterator):\n",
    "    surfaces = surfaces.reshape(-1, dims_prod)\n",
    "    surf_labels = kmeans.predict(surfaces)\n",
    "    training_cluster_assignments.append(surf_labels)\n",
    "    Y_train.append(label)\n",
    "\n",
    "X_train = create_histograms(training_cluster_assignments, n_of_centers)\n",
    "scaler = skl.preprocessing.StandardScaler().fit(X_train)\n",
    "X_train = scaler.transform(X_train)\n",
    "\n",
    "logreg = LogisticRegression(solver='lbfgs', multi_class='multinomial', max_iter=1000)\n",
    "logreg.fit(X_train, Y_train)\n",
    "\n",
    "gnb = GaussianNB()\n",
    "gnb.fit(X_train, Y_train)\n",
    "\n",
    "knn = KNeighborsClassifier()\n",
    "knn.fit(X_train, Y_train)"
   ]
  },
  {
   "cell_type": "markdown",
   "metadata": {},
   "source": [
    "### Build testing features and classify"
   ]
  },
  {
   "cell_type": "code",
   "execution_count": null,
   "metadata": {},
   "outputs": [],
   "source": [
    "args_test = dict(save_to='./data', train=False, transform=surface_transform, download=True)\n",
    "if dataset == 'IBMGesture':\n",
    "    testset = sda.datasets.IBMGesture(**args_test)\n",
    "elif dataset == 'NCARS':\n",
    "    testset = sda.datasets.NCARS(**args_test)\n",
    "elif dataset == 'NMNIST':\n",
    "    testset = sda.datasets.NMNIST(**args_test, first_saccade_only=first_saccade_only)\n",
    "testloader = sda.datasets.dataloader.Dataloader(testset, shuffle=True)\n",
    "testiterator = iter(testloader)\n",
    "\n",
    "testing_cluster_assignments = []\n",
    "Y_test = []\n",
    "for surfaces, label in tqdm(testiterator):\n",
    "    surfaces = surfaces.reshape(-1, np.prod(surface_dimensions))\n",
    "    surf_labels = kmeans.predict(surfaces)\n",
    "    testing_cluster_assignments.append(surf_labels)\n",
    "    Y_test.append(label)"
   ]
  },
  {
   "cell_type": "code",
   "execution_count": null,
   "metadata": {},
   "outputs": [],
   "source": [
    "X_test = create_histograms(testing_cluster_assignments, n_of_centers)\n",
    "X_test = scaler.transform(X_test)\n",
    "assert len(X_test) == len(Y_test)\n",
    "\n",
    "scores = dict(zip(['logreg', 'gnb', 'knn'], [0,0,0]))\n",
    "scores['logreg'] = logreg.score(X_test, Y_test)\n",
    "scores['gnb'] = gnb.score(X_test, Y_test)\n",
    "scores['knn'] = knn.score(X_test, Y_test)\n",
    "scores = {k: round(v, 4) for k,v in scores.items()}\n",
    "winner_classifier = max(scores.keys(), key=(lambda key: scores[key]))\n",
    "print(str(scores))\n",
    "#print(skl.metrics.classification_report(Y_test, logreg.predict(X_test)))\n",
    "print(skl.metrics.confusion_matrix(Y_test, logreg.predict(X_test)))\n",
    "print(time.strftime(\"Finished on %a, %d %b %Y %H:%M:%S\", time.gmtime()))"
   ]
  },
  {
   "cell_type": "code",
   "execution_count": null,
   "metadata": {},
   "outputs": [],
   "source": [
    "np.save(\"ncars_normalised_new.npy\", scores, allow_pickle=True)"
   ]
  },
  {
   "cell_type": "code",
   "execution_count": null,
   "metadata": {},
   "outputs": [],
   "source": [
    "np.load(\"ncars_normalised_new.npy\", allow_pickle=True)"
   ]
  },
  {
   "cell_type": "code",
   "execution_count": null,
   "metadata": {},
   "outputs": [],
   "source": [
    "X_train_orig = create_histograms(training_cluster_assignments, n_of_centers)\n",
    "X_test_orig = create_histograms(testing_cluster_assignments, n_of_centers)\n",
    "\n",
    "np.save(\"X_train.npy\", X_train_orig)\n",
    "np.save(\"X_test.npy\", X_test_orig)\n",
    "np.save(\"Y_train.npy\", Y_train)\n",
    "np.save(\"Y_test.npy\", Y_test)\n"
   ]
  },
  {
   "cell_type": "markdown",
   "metadata": {},
   "source": [
    "### don't look at this hacky bit to list scores in nb filenames generated by papermill ;P"
   ]
  },
  {
   "cell_type": "code",
   "execution_count": null,
   "metadata": {},
   "outputs": [],
   "source": [
    "import os\n",
    "new_file_name = './milled_nbs/' + str(scores[winner_classifier]) + '_' + winner_classifier + file_name\n",
    "os.rename('./milled_nbs/' + file_name, new_file_name)"
   ]
  }
 ],
 "metadata": {
  "kernelspec": {
   "display_name": "Python 3",
   "language": "python",
   "name": "python3"
  },
  "language_info": {
   "codemirror_mode": {
    "name": "ipython",
    "version": 3
   },
   "file_extension": ".py",
   "mimetype": "text/x-python",
   "name": "python",
   "nbconvert_exporter": "python",
   "pygments_lexer": "ipython3",
   "version": "3.7.3"
  }
 },
 "nbformat": 4,
 "nbformat_minor": 4
}
